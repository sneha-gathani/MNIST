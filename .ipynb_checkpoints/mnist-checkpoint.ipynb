{
 "cells": [
  {
   "cell_type": "code",
   "execution_count": 24,
   "metadata": {},
   "outputs": [],
   "source": [
    "import numpy\n",
    "from keras.datasets import mnist\n",
    "from keras.models import Sequential\n",
    "from keras.layers import Dense\n",
    "from keras.layers import Dropout\n",
    "from keras.layers import Flatten\n",
    "from keras.layers.convolutional import Conv2D\n",
    "from keras.layers.convolutional import MaxPooling2D\n",
    "from keras.utils import np_utils\n",
    "from keras import backend as K\n",
    "K.set_image_dim_ordering('th')"
   ]
  },
  {
   "cell_type": "code",
   "execution_count": 25,
   "metadata": {},
   "outputs": [],
   "source": [
    "# fix random seed for reproducibility\n",
    "seed = 7\n",
    "numpy.random.seed(seed)"
   ]
  },
  {
   "cell_type": "code",
   "execution_count": 26,
   "metadata": {},
   "outputs": [],
   "source": [
    "# load data\n",
    "(X_train, y_train), (X_test, y_test) = mnist.load_data()\n",
    "# reshape to be [samples][pixels][width][height]\n",
    "X_train = X_train.reshape(X_train.shape[0], 1, 28, 28).astype('float32')\n",
    "X_test = X_test.reshape(X_test.shape[0], 1, 28, 28).astype('float32')"
   ]
  },
  {
   "cell_type": "code",
   "execution_count": 27,
   "metadata": {},
   "outputs": [],
   "source": [
    "# normalize inputs from 0-255 to 0-1\n",
    "X_train = X_train / 255\n",
    "X_test = X_test / 255\n",
    "# one hot encode outputs = converts class vector to binary class matrix\n",
    "y_train = np_utils.to_categorical(y_train)\n",
    "y_test = np_utils.to_categorical(y_test)\n",
    "num_classes = y_test.shape[1]"
   ]
  },
  {
   "cell_type": "code",
   "execution_count": 28,
   "metadata": {},
   "outputs": [],
   "source": [
    "def baseline_model():\n",
    "    # create model\n",
    "    model = Sequential()\n",
    "    model.add(Conv2D(32, (5, 5), input_shape=(1, 28, 28), activation='relu'))\n",
    "    model.add(MaxPooling2D(pool_size=(2, 2)))\n",
    "    model.add(Dropout(0.2))\n",
    "    model.add(Flatten())\n",
    "    model.add(Dense(128, activation='relu'))\n",
    "    model.add(Dense(num_classes, activation='softmax'))\n",
    "    # Compile model\n",
    "    model.compile(loss='categorical_crossentropy', optimizer='adam', metrics=['accuracy'])\n",
    "    return model"
   ]
  },
  {
   "cell_type": "code",
   "execution_count": 29,
   "metadata": {},
   "outputs": [
    {
     "name": "stdout",
     "output_type": "stream",
     "text": [
      "Train on 60000 samples, validate on 10000 samples\n",
      "Epoch 1/10\n",
      " - 49s - loss: 0.2229 - acc: 0.9363 - val_loss: 0.0802 - val_acc: 0.9746\n",
      "Epoch 2/10\n",
      " - 49s - loss: 0.0716 - acc: 0.9784 - val_loss: 0.0454 - val_acc: 0.9856\n",
      "Epoch 3/10\n",
      " - 48s - loss: 0.0514 - acc: 0.9842 - val_loss: 0.0447 - val_acc: 0.9858\n",
      "Epoch 4/10\n",
      " - 48s - loss: 0.0394 - acc: 0.9880 - val_loss: 0.0404 - val_acc: 0.9875\n",
      "Epoch 5/10\n",
      " - 48s - loss: 0.0327 - acc: 0.9899 - val_loss: 0.0344 - val_acc: 0.9886\n",
      "Epoch 6/10\n",
      " - 48s - loss: 0.0268 - acc: 0.9916 - val_loss: 0.0335 - val_acc: 0.9894\n",
      "Epoch 7/10\n",
      " - 49s - loss: 0.0224 - acc: 0.9927 - val_loss: 0.0361 - val_acc: 0.9877\n",
      "Epoch 8/10\n",
      " - 51s - loss: 0.0193 - acc: 0.9941 - val_loss: 0.0328 - val_acc: 0.9887\n",
      "Epoch 9/10\n",
      " - 49s - loss: 0.0159 - acc: 0.9950 - val_loss: 0.0328 - val_acc: 0.9888\n",
      "Epoch 10/10\n",
      " - 50s - loss: 0.0142 - acc: 0.9958 - val_loss: 0.0319 - val_acc: 0.9899\n",
      "CNN Error: 1.01%\n"
     ]
    }
   ],
   "source": [
    "# build the model\n",
    "model = baseline_model()\n",
    "# Fit the model\n",
    "model.fit(X_train, y_train, validation_data=(X_test, y_test), epochs=10, batch_size=200, verbose=2)"
   ]
  },
  {
   "cell_type": "code",
   "execution_count": 36,
   "metadata": {},
   "outputs": [
    {
     "name": "stdout",
     "output_type": "stream",
     "text": [
      "10000/10000 [==============================] - 4s 395us/step\n",
      "CNN Error: 1.01%\n",
      "0.0319075290597917\n",
      "0.9899\n"
     ]
    }
   ],
   "source": [
    "# Final evaluation of the model\n",
    "scores = model.evaluate(X_test, y_test, verbose=1)\n",
    "print(\"CNN Error: %.2f%%\" % (100-scores[1]*100))\n",
    "print scores[0] #loss value - validation loss value\n",
    "print scores[1] #metrics value - accuracy"
   ]
  }
 ],
 "metadata": {
  "kernelspec": {
   "display_name": "Python 2",
   "language": "python",
   "name": "python2"
  },
  "language_info": {
   "codemirror_mode": {
    "name": "ipython",
    "version": 2
   },
   "file_extension": ".py",
   "mimetype": "text/x-python",
   "name": "python",
   "nbconvert_exporter": "python",
   "pygments_lexer": "ipython2",
   "version": "2.7.15"
  }
 },
 "nbformat": 4,
 "nbformat_minor": 2
}
